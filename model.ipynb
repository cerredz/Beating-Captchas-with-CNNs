{
 "cells": [
  {
   "cell_type": "code",
   "execution_count": 4,
   "id": "964dd324",
   "metadata": {},
   "outputs": [],
   "source": [
    "import os\n",
    "import numpy as np\n",
    "import pandas as pd\n",
    "import tensorflow as tf\n",
    "from tensorflow import keras\n",
    "from tensorflow.keras import layers, regularizers, models\n",
    "from tensorflow.keras.preprocessing.image import ImageDataGenerator\n",
    "import matplotlib.pyplot as plt"
   ]
  },
  {
   "cell_type": "code",
   "execution_count": 2,
   "id": "4f82d9d5",
   "metadata": {},
   "outputs": [],
   "source": [
    "height = 120\n",
    "width = 120\n",
    "batch_size = 64"
   ]
  },
  {
   "cell_type": "code",
   "execution_count": 3,
   "id": "b543cc60",
   "metadata": {},
   "outputs": [
    {
     "name": "stdout",
     "output_type": "stream",
     "text": [
      "Found 2269 files belonging to 2 classes.\n"
     ]
    }
   ],
   "source": [
    "ds_train = tf.keras.utils.image_dataset_from_directory(\n",
    "  'data/',\n",
    "  validation_split=0.2,\n",
    "  subset=\"training\",\n",
    "  shuffle=True,\n",
    "  #seed=123,\n",
    "  image_size=(height, width),\n",
    "  batch_size=batch_size\n",
    ")\n",
    "ds_val = tf.keras.utils.image_dataset_from_directory(\n",
    "  'data/',\n",
    "  validation_split=0.2,\n",
    "  subset=\"validation\",\n",
    "  shuffle=True,\n",
    "  seed=123,\n",
    "  image_size=(height, width),\n",
    "  batch_size=batch_size\n",
    ")"
   ]
  },
  {
   "cell_type": "code",
   "execution_count": 4,
   "id": "b96b59e1",
   "metadata": {},
   "outputs": [
    {
     "name": "stdout",
     "output_type": "stream",
     "text": [
      "['Bicycle', 'Other']\n"
     ]
    }
   ],
   "source": [
    "class_names = ds_train.class_names\n",
    "print(class_names)"
   ]
  },
  {
   "cell_type": "code",
   "execution_count": 5,
   "id": "8609e694",
   "metadata": {},
   "outputs": [],
   "source": [
    "def normalize_img(image,label):\n",
    "    return tf.cast(image,tf.float32)/255.0, label"
   ]
  },
  {
   "cell_type": "code",
   "execution_count": 6,
   "id": "39c8ef40",
   "metadata": {
    "scrolled": true
   },
   "outputs": [],
   "source": [
    "plt.figure(figsize=(10, 10))\n",
    "for images, labels in ds_train.take(1):\n",
    "  for i in range(9):\n",
    "    ax = plt.subplot(3, 3, i + 1)\n",
    "    plt.imshow(images[i].numpy().astype(\"uint8\"))\n",
    "    plt.title(class_names[labels[i]])\n",
    "    plt.axis(\"off\")\n",
    "plt.figure(figsize=(10, 10))\n",
    "for images, labels in ds_val.take(1):\n",
    "  for i in range(9):\n",
    "    ax = plt.subplot(3, 3, i + 1)\n",
    "    plt.imshow(images[i].numpy().astype(\"uint8\"))\n",
    "    plt.title(class_names[labels[i]])\n",
    "    plt.axis(\"off\")"
   ]
  },
  {
   "cell_type": "code",
   "execution_count": 7,
   "id": "f05b626d",
   "metadata": {},
   "outputs": [],
   "source": [
    "AUTOTUNE = tf.data.experimental.AUTOTUNE\n",
    "ds_train = ds_train.map(normalize_img, num_parallel_calls = AUTOTUNE)\n",
    "ds_val = ds_val.map(normalize_img, num_parallel_calls = AUTOTUNE)"
   ]
  },
  {
   "cell_type": "code",
   "execution_count": 8,
   "id": "6a63d4b6",
   "metadata": {},
   "outputs": [],
   "source": [
    "def Model():\n",
    "    inputs = keras.Input(shape=(120,120,3))\n",
    "    \n",
    "    x = layers.Conv2D(64,3,padding='valid')(inputs)\n",
    "    x = layers.BatchNormalization()(x)\n",
    "    x = keras.activations.relu(x)\n",
    "    x = layers.MaxPooling2D()(x)\n",
    "    \n",
    "    x = layers.Conv2D(128,3,padding='valid')(x)\n",
    "    x = layers.BatchNormalization()(x)\n",
    "    x = keras.activations.relu(x)\n",
    "    x = layers.MaxPooling2D()(x)\n",
    "    \n",
    "    x = layers.Conv2D(256,3,padding='valid')(x)\n",
    "    x = layers.BatchNormalization()(x)\n",
    "    x = keras.activations.relu(x)\n",
    "    x = layers.MaxPooling2D()(x)\n",
    "    \n",
    "    x = layers.Conv2D(256,3,padding='valid')(x)\n",
    "    x = layers.BatchNormalization()(x)\n",
    "    x = keras.activations.relu(x)\n",
    "    x = layers.MaxPooling2D()(x)\n",
    "    \n",
    "    x = layers.Conv2D(256,3,padding='same')(x)\n",
    "    x = layers.BatchNormalization()(x)\n",
    "    x = keras.activations.relu(x)\n",
    "    \n",
    "    x = layers.Flatten()(x)\n",
    "    #kernel_regularizer=regularizers.l2(.01)\n",
    "    x = layers.Dense(1024)(x)\n",
    "    x = layers.BatchNormalization()(x)\n",
    "    x = keras.activations.relu(x)\n",
    "    \n",
    "    x = layers.Dense(256)(x)\n",
    "    x = layers.BatchNormalization()(x)\n",
    "    x = keras.activations.relu(x)\n",
    "    \n",
    "    #x = layers.Dropout(.5)(x)\n",
    "    outputs = layers.Dense(2)(x)\n",
    "    \n",
    "    model = keras.Model(inputs=inputs,outputs=outputs)\n",
    "    return model\n",
    "\n",
    "model = Model()\n",
    "\n",
    "print(model.summary())"
   ]
  },
  {
   "cell_type": "code",
   "execution_count": 2,
   "id": "18050fef",
   "metadata": {
    "scrolled": false
   },
   "outputs": [],
   "source": [
    "#created model99.8 by going through entire training set, then used transfer learning to create\n",
    "#models for sub-categories - explained in demo - \n",
    "\n",
    "model = keras.models.load_model('models/model99.8')\n",
    "base_inputs = model.layers[0].input\n",
    "base_outputs = model.layers[-2].output\n",
    "x = layers.Dense(256)(base_outputs)\n",
    "x = layers.BatchNormalization(name = \"bn1\")(x)\n",
    "x = keras.activations.relu(x)\n",
    "x = layers.Dense(96)(x)\n",
    "x = layers.BatchNormalization(name = \"bn2\")(x)\n",
    "x = keras.activations.relu(x)\n",
    "final_outputs = layers.Dense(2)(x)\n",
    "new_model = keras.Model(inputs=base_inputs,outputs=final_outputs)\n",
    "new_model.compile(\n",
    "    loss=keras.losses.SparseCategoricalCrossentropy(from_logits=True),\n",
    "    optimizer=keras.optimizers.Adam(learning_rate=0.0001),\n",
    "    metrics=['accuracy']\n",
    ")\n",
    "new_model.fit(ds_train, batch_size=64, epochs=3)\n",
    "new_model.evaluate(ds_train,batch_size=64)"
   ]
  },
  {
   "cell_type": "code",
   "execution_count": 14,
   "id": "00708286",
   "metadata": {},
   "outputs": [
    {
     "name": "stderr",
     "output_type": "stream",
     "text": [
      "WARNING:absl:Found untraced functions such as _jit_compiled_convolution_op, _jit_compiled_convolution_op, _jit_compiled_convolution_op, _jit_compiled_convolution_op, _jit_compiled_convolution_op while saving (showing 5 of 5). These functions will not be directly callable after loading.\n"
     ]
    },
    {
     "name": "stdout",
     "output_type": "stream",
     "text": [
      "INFO:tensorflow:Assets written to: models/model99.8\\assets\n"
     ]
    },
    {
     "name": "stderr",
     "output_type": "stream",
     "text": [
      "INFO:tensorflow:Assets written to: models/model99.8\\assets\n"
     ]
    }
   ],
   "source": [
    "model = keras.models.load_model('models/model99.8')\n",
    "model.save('models/model99.8')"
   ]
  },
  {
   "cell_type": "code",
   "execution_count": null,
   "id": "92304e56",
   "metadata": {},
   "outputs": [],
   "source": []
  }
 ],
 "metadata": {
  "kernelspec": {
   "display_name": "Python 3 (ipykernel)",
   "language": "python",
   "name": "python3"
  },
  "language_info": {
   "codemirror_mode": {
    "name": "ipython",
    "version": 3
   },
   "file_extension": ".py",
   "mimetype": "text/x-python",
   "name": "python",
   "nbconvert_exporter": "python",
   "pygments_lexer": "ipython3",
   "version": "3.10.7"
  }
 },
 "nbformat": 4,
 "nbformat_minor": 5
}
